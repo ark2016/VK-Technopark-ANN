{
 "cells": [
  {
   "cell_type": "markdown",
   "metadata": {
    "id": "BwBxTmh3Am9J"
   },
   "source": [
    "### Задание\n",
    "\n",
    "1) Модифицируйте код и реализуйте [Wasserstein GAN](https://arxiv.org/abs/1701.07875) ([From GAN to WGAN\n",
    "](https://lilianweng.github.io/posts/2017-08-20-gan/)) используя weight clipping. (1 балл)\n",
    "\n",
    "2) Замените  weight clipping на [gradient penalty](https://arxiv.org/pdf/1704.00028v3.pdf). (1 балл)\n",
    "\n",
    "3) Добавьте к обучению WGAN условие на метку, продемонстрируйте [условную генерацию](https://arxiv.org/pdf/1411.1784.pdf).  (1 балл)\n",
    "\n",
    "Напишите отчет о том, что попробовали, какие результаты получили, какую архитектуру использовали, как вам кажется надо обучать GAN, чтобы добиться сходимости? Каждый пункт обязательно сопроводите визуализациями."
   ]
  },
  {
   "cell_type": "code",
   "execution_count": null,
   "metadata": {
    "id": "jvhaRP7tAm9E"
   },
   "outputs": [],
   "source": [
    "import torch\n",
    "import torch.nn as nn\n",
    "import torch.nn.functional as F\n",
    "import torch.optim as optim\n",
    "from torch.utils.data import DataLoader, Dataset\n",
    "\n",
    "import torchvision\n",
    "import matplotlib.pyplot as plt\n",
    "import numpy as np\n",
    "\n",
    "from torch.autograd import Variable"
   ]
  },
  {
   "cell_type": "code",
   "execution_count": null,
   "metadata": {
    "id": "O1jx4dNAAm9G"
   },
   "outputs": [],
   "source": [
    "class Config:\n",
    "    pass\n",
    "\n",
    "config = Config()\n",
    "config.mnist_path = None\n",
    "config.batch_size = 16\n",
    "config.num_workers = 3\n",
    "config.num_epochs = 10\n",
    "config.noise_size = 50\n",
    "config.print_freq = 100\n"
   ]
  },
  {
   "cell_type": "code",
   "execution_count": null,
   "metadata": {
    "colab": {
     "base_uri": "https://localhost:8080/"
    },
    "id": "qub7m0RoAm9H",
    "outputId": "fcb7b204-cd39-46bc-f8b2-2c05fbb79cf2"
   },
   "outputs": [
    {
     "name": "stdout",
     "output_type": "stream",
     "text": [
      "Downloading http://fashion-mnist.s3-website.eu-central-1.amazonaws.com/train-images-idx3-ubyte.gz\n",
      "Downloading http://fashion-mnist.s3-website.eu-central-1.amazonaws.com/train-images-idx3-ubyte.gz to fashion_mnist/FashionMNIST/raw/train-images-idx3-ubyte.gz\n"
     ]
    },
    {
     "name": "stderr",
     "output_type": "stream",
     "text": [
      "100%|██████████| 26.4M/26.4M [00:01<00:00, 17.0MB/s]\n"
     ]
    },
    {
     "name": "stdout",
     "output_type": "stream",
     "text": [
      "Extracting fashion_mnist/FashionMNIST/raw/train-images-idx3-ubyte.gz to fashion_mnist/FashionMNIST/raw\n",
      "\n",
      "Downloading http://fashion-mnist.s3-website.eu-central-1.amazonaws.com/train-labels-idx1-ubyte.gz\n",
      "Downloading http://fashion-mnist.s3-website.eu-central-1.amazonaws.com/train-labels-idx1-ubyte.gz to fashion_mnist/FashionMNIST/raw/train-labels-idx1-ubyte.gz\n"
     ]
    },
    {
     "name": "stderr",
     "output_type": "stream",
     "text": [
      "100%|██████████| 29.5k/29.5k [00:00<00:00, 271kB/s]\n"
     ]
    },
    {
     "name": "stdout",
     "output_type": "stream",
     "text": [
      "Extracting fashion_mnist/FashionMNIST/raw/train-labels-idx1-ubyte.gz to fashion_mnist/FashionMNIST/raw\n",
      "\n",
      "Downloading http://fashion-mnist.s3-website.eu-central-1.amazonaws.com/t10k-images-idx3-ubyte.gz\n",
      "Downloading http://fashion-mnist.s3-website.eu-central-1.amazonaws.com/t10k-images-idx3-ubyte.gz to fashion_mnist/FashionMNIST/raw/t10k-images-idx3-ubyte.gz\n"
     ]
    },
    {
     "name": "stderr",
     "output_type": "stream",
     "text": [
      "100%|██████████| 4.42M/4.42M [00:00<00:00, 5.02MB/s]\n"
     ]
    },
    {
     "name": "stdout",
     "output_type": "stream",
     "text": [
      "Extracting fashion_mnist/FashionMNIST/raw/t10k-images-idx3-ubyte.gz to fashion_mnist/FashionMNIST/raw\n",
      "\n",
      "Downloading http://fashion-mnist.s3-website.eu-central-1.amazonaws.com/t10k-labels-idx1-ubyte.gz\n",
      "Downloading http://fashion-mnist.s3-website.eu-central-1.amazonaws.com/t10k-labels-idx1-ubyte.gz to fashion_mnist/FashionMNIST/raw/t10k-labels-idx1-ubyte.gz\n"
     ]
    },
    {
     "name": "stderr",
     "output_type": "stream",
     "text": [
      "100%|██████████| 5.15k/5.15k [00:00<00:00, 17.9MB/s]"
     ]
    },
    {
     "name": "stdout",
     "output_type": "stream",
     "text": [
      "Extracting fashion_mnist/FashionMNIST/raw/t10k-labels-idx1-ubyte.gz to fashion_mnist/FashionMNIST/raw\n",
      "\n"
     ]
    },
    {
     "name": "stderr",
     "output_type": "stream",
     "text": [
      "\n"
     ]
    }
   ],
   "source": [
    "train = torchvision.datasets.FashionMNIST(\"fashion_mnist\", train=True, transform=torchvision.transforms.ToTensor(), download=True)"
   ]
  },
  {
   "cell_type": "code",
   "execution_count": null,
   "metadata": {
    "id": "voM1DxvEAm9H"
   },
   "outputs": [],
   "source": [
    "dataloader = DataLoader(train, batch_size=16, shuffle=True)"
   ]
  },
  {
   "cell_type": "code",
   "execution_count": null,
   "metadata": {
    "colab": {
     "base_uri": "https://localhost:8080/"
    },
    "id": "yJcwiRMDAm9H",
    "outputId": "2f9f2b5f-015b-4ca9-803d-f122c474cdb7"
   },
   "outputs": [
    {
     "data": {
      "text/plain": [
       "3750"
      ]
     },
     "execution_count": 5,
     "metadata": {},
     "output_type": "execute_result"
    }
   ],
   "source": [
    "len(dataloader)"
   ]
  },
  {
   "cell_type": "code",
   "execution_count": null,
   "metadata": {
    "id": "7vv5ieReAm9H"
   },
   "outputs": [],
   "source": [
    "for image, cat in dataloader:\n",
    "    break"
   ]
  },
  {
   "cell_type": "code",
   "execution_count": null,
   "metadata": {
    "colab": {
     "base_uri": "https://localhost:8080/"
    },
    "id": "6p6GmSXjAm9H",
    "outputId": "06c14409-920b-4e4f-f1a4-32e6e2d45f7f",
    "scrolled": true
   },
   "outputs": [
    {
     "data": {
      "text/plain": [
       "torch.Size([16, 1, 28, 28])"
      ]
     },
     "execution_count": 7,
     "metadata": {},
     "output_type": "execute_result"
    }
   ],
   "source": [
    "image.size()"
   ]
  },
  {
   "cell_type": "code",
   "execution_count": null,
   "metadata": {
    "colab": {
     "base_uri": "https://localhost:8080/"
    },
    "id": "ni1QqWbLAm9I",
    "outputId": "26061608-0764-4bc0-cb39-e7dcce0a41cd"
   },
   "outputs": [
    {
     "data": {
      "text/plain": [
       "784"
      ]
     },
     "execution_count": 8,
     "metadata": {},
     "output_type": "execute_result"
    }
   ],
   "source": [
    "28*28"
   ]
  },
  {
   "cell_type": "code",
   "execution_count": null,
   "metadata": {
    "id": "Dsd-Z6vhAm9I"
   },
   "outputs": [],
   "source": [
    "class Generator(nn.Module):\n",
    "    def __init__(self):\n",
    "        super(Generator, self).__init__()\n",
    "        self.model = nn.Sequential(\n",
    "            nn.Linear(config.noise_size, 200),\n",
    "            nn.ReLU(inplace=True),\n",
    "            nn.Linear(200, 28*28),\n",
    "            nn.Sigmoid())\n",
    "\n",
    "    def forward(self, x):\n",
    "        return self.model(x)\n",
    "\n",
    "class Discriminator(nn.Module):\n",
    "    def __init__(self):\n",
    "        super(Discriminator, self).__init__()\n",
    "        self.model = nn.Sequential(\n",
    "            nn.Linear(28*28, 200),\n",
    "            nn.ReLU(inplace=True),\n",
    "            nn.Linear(200, 50),\n",
    "            nn.ReLU(inplace=True),\n",
    "            nn.Linear(50, 1),\n",
    "            nn.Sigmoid())\n",
    "    def forward(self, x):\n",
    "        return self.model(x)"
   ]
  },
  {
   "cell_type": "code",
   "execution_count": null,
   "metadata": {
    "id": "0GuZPb4xAm9I"
   },
   "outputs": [],
   "source": [
    "generator = Generator()\n",
    "discriminator = Discriminator()"
   ]
  },
  {
   "cell_type": "code",
   "execution_count": null,
   "metadata": {
    "id": "fhqKtwNZAm9I"
   },
   "outputs": [],
   "source": [
    "optim_G = optim.Adam(params=generator.parameters(), lr=0.0001)\n",
    "optim_D = optim.Adam(params=discriminator.parameters(), lr=0.0001)\n",
    "\n",
    "criterion = nn.BCELoss()"
   ]
  },
  {
   "cell_type": "code",
   "execution_count": null,
   "metadata": {
    "id": "5PS0wrehAm9J"
   },
   "outputs": [],
   "source": [
    "input = Variable(torch.FloatTensor(config.batch_size, 28*28))\n",
    "noise = Variable(torch.FloatTensor(config.batch_size, config.noise_size))\n",
    "fixed_noise = Variable(torch.FloatTensor(config.batch_size, config.noise_size).normal_(0, 1))\n",
    "label = Variable(torch.FloatTensor(config.batch_size))\n",
    "real_label = 1\n",
    "fake_label = 0"
   ]
  },
  {
   "cell_type": "code",
   "execution_count": null,
   "metadata": {
    "colab": {
     "base_uri": "https://localhost:8080/",
     "height": 936
    },
    "id": "w9jF0MABAm9J",
    "outputId": "968f9ed3-1b96-40b2-b8e0-f16f38b45260",
    "scrolled": true
   },
   "outputs": [
    {
     "name": "stdout",
     "output_type": "stream",
     "text": [
      "Epoch:1 Iter: 100 errD_x: 0.21 errD_z: 0.19 errG: 1.81\n",
      "Epoch:1 Iter: 200 errD_x: 0.29 errD_z: 0.09 errG: 2.59\n",
      "Epoch:1 Iter: 300 errD_x: 0.19 errD_z: 0.17 errG: 2.19\n",
      "Epoch:1 Iter: 400 errD_x: 0.26 errD_z: 0.13 errG: 2.17\n",
      "Epoch:1 Iter: 500 errD_x: 0.10 errD_z: 0.07 errG: 2.75\n",
      "Epoch:1 Iter: 600 errD_x: 0.02 errD_z: 0.08 errG: 2.62\n",
      "Epoch:1 Iter: 700 errD_x: 0.10 errD_z: 0.08 errG: 2.75\n",
      "Epoch:1 Iter: 800 errD_x: 0.09 errD_z: 0.26 errG: 1.98\n",
      "Epoch:1 Iter: 900 errD_x: 0.12 errD_z: 0.19 errG: 1.94\n",
      "Epoch:1 Iter: 1000 errD_x: 0.13 errD_z: 0.45 errG: 1.33\n",
      "Epoch:1 Iter: 1100 errD_x: 0.41 errD_z: 0.23 errG: 2.00\n",
      "Epoch:1 Iter: 1200 errD_x: 0.21 errD_z: 0.25 errG: 1.84\n",
      "Epoch:1 Iter: 1300 errD_x: 0.24 errD_z: 0.23 errG: 1.75\n",
      "Epoch:1 Iter: 1400 errD_x: 0.07 errD_z: 0.22 errG: 1.77\n",
      "Epoch:1 Iter: 1500 errD_x: 0.15 errD_z: 0.18 errG: 2.20\n",
      "Epoch:1 Iter: 1600 errD_x: 0.06 errD_z: 0.23 errG: 2.31\n",
      "Epoch:1 Iter: 1700 errD_x: 0.13 errD_z: 0.14 errG: 2.66\n",
      "Epoch:1 Iter: 1800 errD_x: 0.17 errD_z: 0.15 errG: 2.63\n",
      "Epoch:1 Iter: 1900 errD_x: 0.15 errD_z: 0.15 errG: 2.66\n",
      "Epoch:1 Iter: 2000 errD_x: 0.19 errD_z: 0.13 errG: 2.52\n",
      "Epoch:1 Iter: 2100 errD_x: 0.15 errD_z: 0.08 errG: 3.22\n",
      "Epoch:1 Iter: 2200 errD_x: 0.06 errD_z: 0.16 errG: 2.87\n",
      "Epoch:1 Iter: 2300 errD_x: 0.15 errD_z: 0.06 errG: 4.11\n",
      "Epoch:1 Iter: 2400 errD_x: 0.04 errD_z: 0.16 errG: 2.70\n",
      "Epoch:1 Iter: 2500 errD_x: 0.21 errD_z: 0.08 errG: 3.49\n",
      "Epoch:1 Iter: 2600 errD_x: 0.03 errD_z: 0.23 errG: 2.55\n",
      "Epoch:1 Iter: 2700 errD_x: 0.15 errD_z: 0.05 errG: 4.13\n",
      "Epoch:1 Iter: 2800 errD_x: 0.11 errD_z: 0.06 errG: 4.05\n",
      "Epoch:1 Iter: 2900 errD_x: 0.17 errD_z: 0.04 errG: 4.24\n",
      "Epoch:1 Iter: 3000 errD_x: 0.19 errD_z: 0.06 errG: 3.52\n",
      "Epoch:1 Iter: 3100 errD_x: 0.02 errD_z: 0.02 errG: 4.77\n",
      "Epoch:1 Iter: 3200 errD_x: 0.05 errD_z: 0.01 errG: 5.60\n"
     ]
    },
    {
     "ename": "KeyboardInterrupt",
     "evalue": "",
     "output_type": "error",
     "traceback": [
      "\u001b[0;31m---------------------------------------------------------------------------\u001b[0m",
      "\u001b[0;31mKeyboardInterrupt\u001b[0m                         Traceback (most recent call last)",
      "\u001b[0;32m<ipython-input-16-c43136fcbf4f>\u001b[0m in \u001b[0;36m<cell line: 6>\u001b[0;34m()\u001b[0m\n\u001b[1;32m     17\u001b[0m         \u001b[0merrD_x\u001b[0m \u001b[0;34m=\u001b[0m \u001b[0mcriterion\u001b[0m\u001b[0;34m(\u001b[0m\u001b[0moutput\u001b[0m\u001b[0;34m,\u001b[0m \u001b[0mlabel\u001b[0m\u001b[0;34m.\u001b[0m\u001b[0mview\u001b[0m\u001b[0;34m(\u001b[0m\u001b[0;36m16\u001b[0m\u001b[0;34m,\u001b[0m \u001b[0;36m1\u001b[0m\u001b[0;34m)\u001b[0m\u001b[0;34m)\u001b[0m\u001b[0;34m\u001b[0m\u001b[0;34m\u001b[0m\u001b[0m\n\u001b[1;32m     18\u001b[0m         \u001b[0mERRD_x\u001b[0m\u001b[0;34m[\u001b[0m\u001b[0mepoch\u001b[0m\u001b[0;34m]\u001b[0m \u001b[0;34m+=\u001b[0m \u001b[0merrD_x\u001b[0m\u001b[0;34m.\u001b[0m\u001b[0mitem\u001b[0m\u001b[0;34m(\u001b[0m\u001b[0;34m)\u001b[0m\u001b[0;34m\u001b[0m\u001b[0;34m\u001b[0m\u001b[0m\n\u001b[0;32m---> 19\u001b[0;31m         \u001b[0merrD_x\u001b[0m\u001b[0;34m.\u001b[0m\u001b[0mbackward\u001b[0m\u001b[0;34m(\u001b[0m\u001b[0;34m)\u001b[0m\u001b[0;34m\u001b[0m\u001b[0;34m\u001b[0m\u001b[0m\n\u001b[0m\u001b[1;32m     20\u001b[0m \u001b[0;34m\u001b[0m\u001b[0m\n\u001b[1;32m     21\u001b[0m         \u001b[0;31m# fake\u001b[0m\u001b[0;34m\u001b[0m\u001b[0;34m\u001b[0m\u001b[0m\n",
      "\u001b[0;32m/usr/local/lib/python3.10/dist-packages/torch/_tensor.py\u001b[0m in \u001b[0;36mbackward\u001b[0;34m(self, gradient, retain_graph, create_graph, inputs)\u001b[0m\n\u001b[1;32m    579\u001b[0m                 \u001b[0minputs\u001b[0m\u001b[0;34m=\u001b[0m\u001b[0minputs\u001b[0m\u001b[0;34m,\u001b[0m\u001b[0;34m\u001b[0m\u001b[0;34m\u001b[0m\u001b[0m\n\u001b[1;32m    580\u001b[0m             )\n\u001b[0;32m--> 581\u001b[0;31m         torch.autograd.backward(\n\u001b[0m\u001b[1;32m    582\u001b[0m             \u001b[0mself\u001b[0m\u001b[0;34m,\u001b[0m \u001b[0mgradient\u001b[0m\u001b[0;34m,\u001b[0m \u001b[0mretain_graph\u001b[0m\u001b[0;34m,\u001b[0m \u001b[0mcreate_graph\u001b[0m\u001b[0;34m,\u001b[0m \u001b[0minputs\u001b[0m\u001b[0;34m=\u001b[0m\u001b[0minputs\u001b[0m\u001b[0;34m\u001b[0m\u001b[0;34m\u001b[0m\u001b[0m\n\u001b[1;32m    583\u001b[0m         )\n",
      "\u001b[0;32m/usr/local/lib/python3.10/dist-packages/torch/autograd/__init__.py\u001b[0m in \u001b[0;36mbackward\u001b[0;34m(tensors, grad_tensors, retain_graph, create_graph, grad_variables, inputs)\u001b[0m\n\u001b[1;32m    345\u001b[0m     \u001b[0;31m# some Python versions print out the first line of a multi-line function\u001b[0m\u001b[0;34m\u001b[0m\u001b[0;34m\u001b[0m\u001b[0m\n\u001b[1;32m    346\u001b[0m     \u001b[0;31m# calls in the traceback and some print out the last line\u001b[0m\u001b[0;34m\u001b[0m\u001b[0;34m\u001b[0m\u001b[0m\n\u001b[0;32m--> 347\u001b[0;31m     _engine_run_backward(\n\u001b[0m\u001b[1;32m    348\u001b[0m         \u001b[0mtensors\u001b[0m\u001b[0;34m,\u001b[0m\u001b[0;34m\u001b[0m\u001b[0;34m\u001b[0m\u001b[0m\n\u001b[1;32m    349\u001b[0m         \u001b[0mgrad_tensors_\u001b[0m\u001b[0;34m,\u001b[0m\u001b[0;34m\u001b[0m\u001b[0;34m\u001b[0m\u001b[0m\n",
      "\u001b[0;32m/usr/local/lib/python3.10/dist-packages/torch/autograd/graph.py\u001b[0m in \u001b[0;36m_engine_run_backward\u001b[0;34m(t_outputs, *args, **kwargs)\u001b[0m\n\u001b[1;32m    823\u001b[0m         \u001b[0munregister_hooks\u001b[0m \u001b[0;34m=\u001b[0m \u001b[0m_register_logging_hooks_on_whole_graph\u001b[0m\u001b[0;34m(\u001b[0m\u001b[0mt_outputs\u001b[0m\u001b[0;34m)\u001b[0m\u001b[0;34m\u001b[0m\u001b[0;34m\u001b[0m\u001b[0m\n\u001b[1;32m    824\u001b[0m     \u001b[0;32mtry\u001b[0m\u001b[0;34m:\u001b[0m\u001b[0;34m\u001b[0m\u001b[0;34m\u001b[0m\u001b[0m\n\u001b[0;32m--> 825\u001b[0;31m         return Variable._execution_engine.run_backward(  # Calls into the C++ engine to run the backward pass\n\u001b[0m\u001b[1;32m    826\u001b[0m             \u001b[0mt_outputs\u001b[0m\u001b[0;34m,\u001b[0m \u001b[0;34m*\u001b[0m\u001b[0margs\u001b[0m\u001b[0;34m,\u001b[0m \u001b[0;34m**\u001b[0m\u001b[0mkwargs\u001b[0m\u001b[0;34m\u001b[0m\u001b[0;34m\u001b[0m\u001b[0m\n\u001b[1;32m    827\u001b[0m         )  # Calls into the C++ engine to run the backward pass\n",
      "\u001b[0;31mKeyboardInterrupt\u001b[0m: "
     ]
    }
   ],
   "source": [
    "ERRD_x = np.zeros(config.num_epochs)\n",
    "ERRD_z = np.zeros(config.num_epochs)\n",
    "ERRG = np.zeros(config.num_epochs)\n",
    "N = len(dataloader)\n",
    "\n",
    "for epoch in range(config.num_epochs):\n",
    "    for iteration, (images, cat) in enumerate(dataloader):\n",
    "        #######\n",
    "        # Discriminator stage: maximize log(D(x)) + log(1 - D(G(z)))\n",
    "        #######\n",
    "        discriminator.zero_grad()\n",
    "\n",
    "        # real\n",
    "        label.data.fill_(real_label)\n",
    "        input_data = images.view(images.shape[0], -1)\n",
    "        output = discriminator(input_data)\n",
    "        errD_x = criterion(output, label.view(16, 1))\n",
    "        ERRD_x[epoch] += errD_x.item()\n",
    "        errD_x.backward()\n",
    "\n",
    "        # fake\n",
    "        noise.data.normal_(0, 1)\n",
    "        fake = generator(noise)\n",
    "        label.data.fill_(fake_label)\n",
    "        output = discriminator(fake.detach())\n",
    "        errD_z = criterion(output, label.view(16, 1))\n",
    "        ERRD_z[epoch] += errD_z.item()\n",
    "        errD_z.backward()\n",
    "\n",
    "        optim_D.step()\n",
    "\n",
    "        #######\n",
    "        # Generator stage: maximize log(D(G(x))\n",
    "        #######\n",
    "        generator.zero_grad()\n",
    "        label.data.fill_(real_label)\n",
    "        output = discriminator(fake)\n",
    "        errG = criterion(output, label.view(16, 1))\n",
    "        ERRG[epoch] += errG.item()\n",
    "        errG.backward()\n",
    "\n",
    "        optim_G.step()\n",
    "\n",
    "        if (iteration+1) % config.print_freq == 0:\n",
    "            print('Epoch:{} Iter: {} errD_x: {:.2f} errD_z: {:.2f} errG: {:.2f}'.format(epoch+1,\n",
    "                                                                                            iteration+1,\n",
    "                                                                                            errD_x.item(),\n",
    "                                                                                            errD_z.item(),\n",
    "                                                                                            errG.item()))"
   ]
  },
  {
   "cell_type": "code",
   "execution_count": null,
   "metadata": {
    "colab": {
     "base_uri": "https://localhost:8080/",
     "height": 559
    },
    "id": "MizcsX_xAm9K",
    "outputId": "1630044c-114d-43bb-ba4a-55d9c323beaf"
   },
   "outputs": [
    {
     "data": {
      "image/png": "[encoded data removed]",
      "text/plain": [
       "<Figure size 600x700 with 16 Axes>"
      ]
     },
     "metadata": {},
     "output_type": "display_data"
    }
   ],
   "source": [
    "noise.data.normal_(0, 1)\n",
    "fake = generator(noise)\n",
    "\n",
    "plt.figure(figsize=(6, 7))\n",
    "for i in range(16):\n",
    "    plt.subplot(4, 4, i + 1)\n",
    "    plt.imshow(fake[i].detach().numpy().reshape(28, 28), cmap=plt.cm.Greys_r)\n",
    "    plt.axis('off')"
   ]
  },
  {
   "cell_type": "markdown",
   "metadata": {},
   "source": [
    "___"
   ]
  },
  {
   "cell_type": "code",
   "execution_count": 1,
   "metadata": {},
   "outputs": [],
   "source": [
    "import torch\n",
    "import torch.nn as nn\n",
    "import torch.optim as optim\n",
    "from torch.utils.data import DataLoader\n",
    "import torchvision\n",
    "import torchvision.transforms as transforms\n",
    "import matplotlib.pyplot as plt\n",
    "import numpy as np"
   ]
  },
  {
   "cell_type": "code",
   "execution_count": 2,
   "metadata": {},
   "outputs": [],
   "source": [
    "class Config:\n",
    "    pass\n",
    "\n",
    "config = Config()\n",
    "config.batch_size = 16\n",
    "config.num_workers = 3\n",
    "config.num_epochs = 5\n",
    "config.noise_size = 50\n",
    "config.clamp_value = 0.01  # для weight clipping\n",
    "config.critic_iters = 5   # кол-во итераций обучения критика на 1 итерацию генератора\n",
    "config.lr = 1e-4"
   ]
  },
  {
   "cell_type": "code",
   "execution_count": 3,
   "metadata": {},
   "outputs": [
    {
     "name": "stdout",
     "output_type": "stream",
     "text": [
      "Downloading http://fashion-mnist.s3-website.eu-central-1.amazonaws.com/train-images-idx3-ubyte.gz\n",
      "Downloading http://fashion-mnist.s3-website.eu-central-1.amazonaws.com/train-images-idx3-ubyte.gz to fashion_mnist/FashionMNIST/raw/train-images-idx3-ubyte.gz\n"
     ]
    },
    {
     "name": "stderr",
     "output_type": "stream",
     "text": [
      "100%|██████████████████████████████████████████████████████████████████████████████| 26.4M/26.4M [00:02<00:00, 11.1MB/s]\n"
     ]
    },
    {
     "name": "stdout",
     "output_type": "stream",
     "text": [
      "Extracting fashion_mnist/FashionMNIST/raw/train-images-idx3-ubyte.gz to fashion_mnist/FashionMNIST/raw\n",
      "\n",
      "Downloading http://fashion-mnist.s3-website.eu-central-1.amazonaws.com/train-labels-idx1-ubyte.gz\n",
      "Downloading http://fashion-mnist.s3-website.eu-central-1.amazonaws.com/train-labels-idx1-ubyte.gz to fashion_mnist/FashionMNIST/raw/train-labels-idx1-ubyte.gz\n"
     ]
    },
    {
     "name": "stderr",
     "output_type": "stream",
     "text": [
      "100%|███████████████████████████████████████████████████████████████████████████████| 29.5k/29.5k [00:00<00:00, 689kB/s]\n"
     ]
    },
    {
     "name": "stdout",
     "output_type": "stream",
     "text": [
      "Extracting fashion_mnist/FashionMNIST/raw/train-labels-idx1-ubyte.gz to fashion_mnist/FashionMNIST/raw\n",
      "\n",
      "Downloading http://fashion-mnist.s3-website.eu-central-1.amazonaws.com/t10k-images-idx3-ubyte.gz\n",
      "Downloading http://fashion-mnist.s3-website.eu-central-1.amazonaws.com/t10k-images-idx3-ubyte.gz to fashion_mnist/FashionMNIST/raw/t10k-images-idx3-ubyte.gz\n"
     ]
    },
    {
     "name": "stderr",
     "output_type": "stream",
     "text": [
      "100%|██████████████████████████████████████████████████████████████████████████████| 4.42M/4.42M [00:00<00:00, 14.2MB/s]\n"
     ]
    },
    {
     "name": "stdout",
     "output_type": "stream",
     "text": [
      "Extracting fashion_mnist/FashionMNIST/raw/t10k-images-idx3-ubyte.gz to fashion_mnist/FashionMNIST/raw\n",
      "\n",
      "Downloading http://fashion-mnist.s3-website.eu-central-1.amazonaws.com/t10k-labels-idx1-ubyte.gz\n",
      "Downloading http://fashion-mnist.s3-website.eu-central-1.amazonaws.com/t10k-labels-idx1-ubyte.gz to fashion_mnist/FashionMNIST/raw/t10k-labels-idx1-ubyte.gz\n"
     ]
    },
    {
     "name": "stderr",
     "output_type": "stream",
     "text": [
      "100%|██████████████████████████████████████████████████████████████████████████████| 5.15k/5.15k [00:00<00:00, 9.94MB/s]"
     ]
    },
    {
     "name": "stdout",
     "output_type": "stream",
     "text": [
      "Extracting fashion_mnist/FashionMNIST/raw/t10k-labels-idx1-ubyte.gz to fashion_mnist/FashionMNIST/raw\n",
      "\n"
     ]
    },
    {
     "name": "stderr",
     "output_type": "stream",
     "text": [
      "\n"
     ]
    }
   ],
   "source": [
    "train_dataset = torchvision.datasets.FashionMNIST(\n",
    "    root=\"fashion_mnist\",\n",
    "    train=True,\n",
    "    transform=transforms.ToTensor(),\n",
    "    download=True\n",
    ")"
   ]
  },
  {
   "cell_type": "code",
   "execution_count": 4,
   "metadata": {},
   "outputs": [],
   "source": [
    "dataloader = DataLoader(\n",
    "    dataset=train_dataset,\n",
    "    batch_size=config.batch_size,\n",
    "    shuffle=True,\n",
    "    num_workers=config.num_workers\n",
    ")"
   ]
  },
  {
   "cell_type": "code",
   "execution_count": 5,
   "metadata": {
    "id": "Y2CXem4HuTWc"
   },
   "outputs": [],
   "source": [
    "class Generator(nn.Module):\n",
    "    def __init__(self, noise_size=50, out_dim=28*28):\n",
    "        super(Generator, self).__init__()\n",
    "        self.model = nn.Sequential(\n",
    "            nn.Linear(noise_size, 200),\n",
    "            nn.ReLU(inplace=True),\n",
    "            nn.Linear(200, out_dim),\n",
    "            nn.Tanh()  # Для WGAN можно использовать Tanh или просто оставить ReLU\n",
    "        )\n",
    "\n",
    "    def forward(self, z):\n",
    "        return self.model(z)"
   ]
  },
  {
   "cell_type": "code",
   "execution_count": 6,
   "metadata": {},
   "outputs": [],
   "source": [
    "class Critic(nn.Module):\n",
    "    def __init__(self, in_dim=28*28):\n",
    "        super(Critic, self).__init__()\n",
    "        self.model = nn.Sequential(\n",
    "            nn.Linear(in_dim, 200),\n",
    "            nn.ReLU(inplace=True),\n",
    "            nn.Linear(200, 50),\n",
    "            nn.ReLU(inplace=True),\n",
    "            nn.Linear(50, 1)  # Без сигмоиды!\n",
    "        )\n",
    "\n",
    "    def forward(self, x):\n",
    "        return self.model(x)"
   ]
  },
  {
   "cell_type": "code",
   "execution_count": 7,
   "metadata": {},
   "outputs": [],
   "source": [
    "generator = Generator(config.noise_size).cuda()\n",
    "critic = Critic().cuda()"
   ]
  },
  {
   "cell_type": "code",
   "execution_count": 8,
   "metadata": {},
   "outputs": [],
   "source": [
    "optim_G = optim.RMSprop(generator.parameters(), lr=config.lr)\n",
    "optim_C = optim.RMSprop(critic.parameters(), lr=config.lr)"
   ]
  },
  {
   "cell_type": "code",
   "execution_count": 9,
   "metadata": {},
   "outputs": [],
   "source": [
    "def train_wgan_weight_clipping():\n",
    "    G_losses, C_losses = [], []\n",
    "\n",
    "    for epoch in range(config.num_epochs):\n",
    "        for i, (real_imgs, _) in enumerate(dataloader):\n",
    "            real_imgs = real_imgs.view(real_imgs.size(0), -1).cuda()\n",
    "\n",
    "            # ----- ОБУЧАЕМ КРИТИК -----\n",
    "            for _ in range(config.critic_iters):\n",
    "                noise = torch.randn(real_imgs.size(0), config.noise_size).cuda()\n",
    "\n",
    "                fake_imgs = generator(noise).detach()\n",
    "                \n",
    "                # Loss Critic = E[C(fake)] - E[C(real)]\n",
    "                critic_loss = torch.mean(critic(fake_imgs)) - torch.mean(critic(real_imgs))\n",
    "\n",
    "                optim_C.zero_grad()\n",
    "                critic_loss.backward()\n",
    "                optim_C.step()\n",
    "\n",
    "                # Weight clipping\n",
    "                for p in critic.parameters():\n",
    "                    p.data.clamp_(-config.clamp_value, config.clamp_value)\n",
    "            \n",
    "            # ----- ОБУЧАЕМ ГЕНЕРАТОР -----\n",
    "            noise = torch.randn(real_imgs.size(0), config.noise_size).cuda()\n",
    "            fake_imgs = generator(noise)\n",
    "            \n",
    "            # Loss Generator = -E[C(fake)]\n",
    "            gen_loss = -torch.mean(critic(fake_imgs))\n",
    "\n",
    "            optim_G.zero_grad()\n",
    "            gen_loss.backward()\n",
    "            optim_G.step()\n",
    "\n",
    "            G_losses.append(gen_loss.item())\n",
    "            C_losses.append(critic_loss.item())\n",
    "\n",
    "            if (i + 1) % 100 == 0:\n",
    "                print(f\"[Epoch {epoch+1}/{config.num_epochs}] [Iter {i+1}] \"\n",
    "                      f\"C_loss: {critic_loss.item():.4f} G_loss: {gen_loss.item():.4f}\")\n",
    "\n",
    "    return G_losses, C_losses"
   ]
  },
  {
   "cell_type": "code",
   "execution_count": 10,
   "metadata": {
    "scrolled": true
   },
   "outputs": [
    {
     "name": "stdout",
     "output_type": "stream",
     "text": [
      "[Epoch 1/5] [Iter 100] C_loss: -0.0185 G_loss: 0.0886\n",
      "[Epoch 1/5] [Iter 200] C_loss: -0.0356 G_loss: 0.0216\n",
      "[Epoch 1/5] [Iter 300] C_loss: -0.0703 G_loss: -0.6940\n",
      "[Epoch 1/5] [Iter 400] C_loss: -0.0555 G_loss: 0.1085\n",
      "[Epoch 1/5] [Iter 500] C_loss: -0.0804 G_loss: 0.0270\n",
      "[Epoch 1/5] [Iter 600] C_loss: -0.0774 G_loss: -0.0539\n",
      "[Epoch 1/5] [Iter 700] C_loss: -0.0499 G_loss: -0.1083\n",
      "[Epoch 1/5] [Iter 800] C_loss: -0.0460 G_loss: -0.0856\n",
      "[Epoch 1/5] [Iter 900] C_loss: -0.0645 G_loss: -0.0876\n",
      "[Epoch 1/5] [Iter 1000] C_loss: -0.0646 G_loss: -0.0481\n",
      "[Epoch 1/5] [Iter 1100] C_loss: -0.0354 G_loss: -0.0673\n",
      "[Epoch 1/5] [Iter 1200] C_loss: -0.0822 G_loss: 0.0087\n",
      "[Epoch 1/5] [Iter 1300] C_loss: -0.0482 G_loss: -0.0238\n",
      "[Epoch 1/5] [Iter 1400] C_loss: -0.0122 G_loss: 0.0373\n",
      "[Epoch 1/5] [Iter 1500] C_loss: -0.0300 G_loss: -0.0043\n",
      "[Epoch 1/5] [Iter 1600] C_loss: -0.0153 G_loss: -0.1053\n",
      "[Epoch 1/5] [Iter 1700] C_loss: -0.0391 G_loss: -0.0383\n",
      "[Epoch 1/5] [Iter 1800] C_loss: -0.0388 G_loss: 0.0159\n",
      "[Epoch 1/5] [Iter 1900] C_loss: -0.0335 G_loss: -0.0199\n",
      "[Epoch 1/5] [Iter 2000] C_loss: -0.0199 G_loss: -0.0411\n",
      "[Epoch 1/5] [Iter 2100] C_loss: -0.0380 G_loss: -0.0164\n",
      "[Epoch 1/5] [Iter 2200] C_loss: -0.0368 G_loss: -0.0193\n",
      "[Epoch 1/5] [Iter 2300] C_loss: -0.0089 G_loss: -0.0186\n",
      "[Epoch 1/5] [Iter 2400] C_loss: -0.0283 G_loss: 0.0097\n",
      "[Epoch 1/5] [Iter 2500] C_loss: -0.0237 G_loss: -0.0375\n",
      "[Epoch 1/5] [Iter 2600] C_loss: -0.0299 G_loss: -0.0359\n",
      "[Epoch 1/5] [Iter 2700] C_loss: -0.0174 G_loss: -0.0047\n",
      "[Epoch 1/5] [Iter 2800] C_loss: -0.0407 G_loss: -0.0334\n",
      "[Epoch 1/5] [Iter 2900] C_loss: -0.0217 G_loss: 0.0022\n",
      "[Epoch 1/5] [Iter 3000] C_loss: -0.0280 G_loss: -0.0687\n",
      "[Epoch 1/5] [Iter 3100] C_loss: -0.0174 G_loss: -0.0750\n",
      "[Epoch 1/5] [Iter 3200] C_loss: -0.0277 G_loss: 0.0208\n",
      "[Epoch 1/5] [Iter 3300] C_loss: -0.0477 G_loss: -0.0833\n",
      "[Epoch 1/5] [Iter 3400] C_loss: -0.0134 G_loss: 0.0436\n",
      "[Epoch 1/5] [Iter 3500] C_loss: -0.0294 G_loss: 0.0530\n",
      "[Epoch 1/5] [Iter 3600] C_loss: -0.0139 G_loss: -0.0271\n",
      "[Epoch 1/5] [Iter 3700] C_loss: -0.0285 G_loss: 0.0345\n",
      "[Epoch 2/5] [Iter 100] C_loss: -0.0169 G_loss: 0.0831\n",
      "[Epoch 2/5] [Iter 200] C_loss: -0.0332 G_loss: -0.0469\n",
      "[Epoch 2/5] [Iter 300] C_loss: -0.0375 G_loss: 0.0509\n",
      "[Epoch 2/5] [Iter 400] C_loss: -0.0358 G_loss: -0.0194\n",
      "[Epoch 2/5] [Iter 500] C_loss: -0.0047 G_loss: -0.0736\n",
      "[Epoch 2/5] [Iter 600] C_loss: -0.0237 G_loss: -0.1058\n",
      "[Epoch 2/5] [Iter 700] C_loss: -0.0411 G_loss: 0.0032\n",
      "[Epoch 2/5] [Iter 800] C_loss: -0.0555 G_loss: -0.1357\n",
      "[Epoch 2/5] [Iter 900] C_loss: -0.0325 G_loss: -0.1073\n",
      "[Epoch 2/5] [Iter 1000] C_loss: -0.0270 G_loss: -0.0469\n",
      "[Epoch 2/5] [Iter 1100] C_loss: -0.0159 G_loss: 0.1232\n",
      "[Epoch 2/5] [Iter 1200] C_loss: -0.0324 G_loss: -0.0452\n",
      "[Epoch 2/5] [Iter 1300] C_loss: -0.0240 G_loss: 0.0781\n",
      "[Epoch 2/5] [Iter 1400] C_loss: -0.0460 G_loss: 0.0537\n",
      "[Epoch 2/5] [Iter 1500] C_loss: -0.0358 G_loss: -0.0373\n",
      "[Epoch 2/5] [Iter 1600] C_loss: -0.0403 G_loss: 0.0840\n",
      "[Epoch 2/5] [Iter 1700] C_loss: -0.0562 G_loss: -0.1418\n",
      "[Epoch 2/5] [Iter 1800] C_loss: -0.0316 G_loss: 0.0745\n",
      "[Epoch 2/5] [Iter 1900] C_loss: -0.0190 G_loss: -0.0417\n",
      "[Epoch 2/5] [Iter 2000] C_loss: -0.0259 G_loss: 0.0044\n",
      "[Epoch 2/5] [Iter 2100] C_loss: -0.0325 G_loss: 0.1091\n",
      "[Epoch 2/5] [Iter 2200] C_loss: -0.0218 G_loss: 0.0168\n",
      "[Epoch 2/5] [Iter 2300] C_loss: -0.0297 G_loss: -0.0115\n",
      "[Epoch 2/5] [Iter 2400] C_loss: -0.0323 G_loss: 0.0620\n",
      "[Epoch 2/5] [Iter 2500] C_loss: -0.0247 G_loss: -0.0149\n",
      "[Epoch 2/5] [Iter 2600] C_loss: -0.0328 G_loss: -0.0575\n",
      "[Epoch 2/5] [Iter 2700] C_loss: -0.0216 G_loss: -0.0208\n",
      "[Epoch 2/5] [Iter 2800] C_loss: -0.0706 G_loss: -0.1094\n",
      "[Epoch 2/5] [Iter 2900] C_loss: -0.0175 G_loss: 0.0467\n",
      "[Epoch 2/5] [Iter 3000] C_loss: -0.0344 G_loss: -0.0116\n",
      "[Epoch 2/5] [Iter 3100] C_loss: -0.0349 G_loss: 0.0029\n",
      "[Epoch 2/5] [Iter 3200] C_loss: -0.0372 G_loss: -0.0587\n",
      "[Epoch 2/5] [Iter 3300] C_loss: -0.0156 G_loss: -0.0880\n",
      "[Epoch 2/5] [Iter 3400] C_loss: -0.0180 G_loss: 0.0124\n",
      "[Epoch 2/5] [Iter 3500] C_loss: -0.0321 G_loss: -0.0350\n",
      "[Epoch 2/5] [Iter 3600] C_loss: -0.0248 G_loss: -0.0050\n",
      "[Epoch 2/5] [Iter 3700] C_loss: -0.0186 G_loss: -0.1454\n",
      "[Epoch 3/5] [Iter 100] C_loss: -0.0370 G_loss: 0.0546\n",
      "[Epoch 3/5] [Iter 200] C_loss: -0.0370 G_loss: -0.0003\n",
      "[Epoch 3/5] [Iter 300] C_loss: -0.0278 G_loss: 0.0186\n",
      "[Epoch 3/5] [Iter 400] C_loss: -0.0175 G_loss: -0.0409\n",
      "[Epoch 3/5] [Iter 500] C_loss: -0.0496 G_loss: -0.1051\n",
      "[Epoch 3/5] [Iter 600] C_loss: -0.0391 G_loss: -0.1098\n",
      "[Epoch 3/5] [Iter 700] C_loss: -0.0096 G_loss: -0.0186\n",
      "[Epoch 3/5] [Iter 800] C_loss: -0.0509 G_loss: -0.1186\n",
      "[Epoch 3/5] [Iter 900] C_loss: -0.0495 G_loss: -0.1478\n",
      "[Epoch 3/5] [Iter 1000] C_loss: -0.0367 G_loss: -0.0327\n",
      "[Epoch 3/5] [Iter 1100] C_loss: -0.0264 G_loss: 0.0281\n",
      "[Epoch 3/5] [Iter 1200] C_loss: -0.0047 G_loss: 0.0707\n",
      "[Epoch 3/5] [Iter 1300] C_loss: -0.0133 G_loss: -0.0434\n",
      "[Epoch 3/5] [Iter 1400] C_loss: -0.0413 G_loss: -0.0123\n",
      "[Epoch 3/5] [Iter 1500] C_loss: -0.0250 G_loss: -0.0345\n",
      "[Epoch 3/5] [Iter 1600] C_loss: -0.0295 G_loss: 0.0215\n",
      "[Epoch 3/5] [Iter 1700] C_loss: -0.0381 G_loss: -0.0074\n",
      "[Epoch 3/5] [Iter 1800] C_loss: -0.0250 G_loss: -0.0408\n",
      "[Epoch 3/5] [Iter 1900] C_loss: -0.0250 G_loss: 0.0274\n",
      "[Epoch 3/5] [Iter 2000] C_loss: -0.0236 G_loss: 0.0409\n",
      "[Epoch 3/5] [Iter 2100] C_loss: -0.0241 G_loss: -0.0348\n",
      "[Epoch 3/5] [Iter 2200] C_loss: -0.0301 G_loss: -0.0554\n",
      "[Epoch 3/5] [Iter 2300] C_loss: -0.0401 G_loss: -0.0537\n",
      "[Epoch 3/5] [Iter 2400] C_loss: -0.0918 G_loss: 0.1233\n",
      "[Epoch 3/5] [Iter 2500] C_loss: -0.0261 G_loss: -0.0390\n",
      "[Epoch 3/5] [Iter 2600] C_loss: -0.0234 G_loss: -0.0690\n",
      "[Epoch 3/5] [Iter 2700] C_loss: -0.0402 G_loss: -0.0703\n",
      "[Epoch 3/5] [Iter 2800] C_loss: -0.0199 G_loss: -0.0153\n",
      "[Epoch 3/5] [Iter 2900] C_loss: -0.0210 G_loss: -0.0093\n",
      "[Epoch 3/5] [Iter 3000] C_loss: -0.0742 G_loss: -0.1524\n",
      "[Epoch 3/5] [Iter 3100] C_loss: -0.0353 G_loss: -0.0853\n",
      "[Epoch 3/5] [Iter 3200] C_loss: -0.0287 G_loss: 0.0874\n",
      "[Epoch 3/5] [Iter 3300] C_loss: -0.0276 G_loss: 0.0149\n",
      "[Epoch 3/5] [Iter 3400] C_loss: -0.0286 G_loss: -0.0287\n",
      "[Epoch 3/5] [Iter 3500] C_loss: -0.0263 G_loss: -0.0269\n",
      "[Epoch 3/5] [Iter 3600] C_loss: -0.0190 G_loss: 0.0060\n",
      "[Epoch 3/5] [Iter 3700] C_loss: -0.0175 G_loss: -0.0848\n",
      "[Epoch 4/5] [Iter 100] C_loss: -0.0436 G_loss: -0.1067\n",
      "[Epoch 4/5] [Iter 200] C_loss: -0.0072 G_loss: -0.0782\n",
      "[Epoch 4/5] [Iter 300] C_loss: -0.0221 G_loss: -0.0356\n",
      "[Epoch 4/5] [Iter 400] C_loss: -0.0521 G_loss: -0.0857\n",
      "[Epoch 4/5] [Iter 500] C_loss: -0.0650 G_loss: -0.0951\n",
      "[Epoch 4/5] [Iter 600] C_loss: -0.0296 G_loss: -0.0132\n",
      "[Epoch 4/5] [Iter 700] C_loss: -0.0237 G_loss: 0.0400\n",
      "[Epoch 4/5] [Iter 800] C_loss: -0.0283 G_loss: 0.0347\n",
      "[Epoch 4/5] [Iter 900] C_loss: -0.0351 G_loss: -0.0602\n",
      "[Epoch 4/5] [Iter 1000] C_loss: -0.0240 G_loss: 0.0716\n",
      "[Epoch 4/5] [Iter 1100] C_loss: -0.0195 G_loss: 0.0022\n",
      "[Epoch 4/5] [Iter 1200] C_loss: -0.0238 G_loss: -0.0184\n",
      "[Epoch 4/5] [Iter 1300] C_loss: -0.0339 G_loss: -0.1758\n",
      "[Epoch 4/5] [Iter 1400] C_loss: -0.0203 G_loss: -0.0129\n",
      "[Epoch 4/5] [Iter 1500] C_loss: -0.0235 G_loss: 0.0256\n",
      "[Epoch 4/5] [Iter 1600] C_loss: -0.0154 G_loss: -0.0462\n",
      "[Epoch 4/5] [Iter 1700] C_loss: -0.0287 G_loss: 0.0440\n",
      "[Epoch 4/5] [Iter 1800] C_loss: -0.0175 G_loss: 0.0082\n",
      "[Epoch 4/5] [Iter 1900] C_loss: -0.0467 G_loss: 0.0849\n",
      "[Epoch 4/5] [Iter 2000] C_loss: -0.0181 G_loss: 0.0213\n",
      "[Epoch 4/5] [Iter 2100] C_loss: -0.0025 G_loss: -0.0384\n",
      "[Epoch 4/5] [Iter 2200] C_loss: -0.0092 G_loss: -0.1178\n",
      "[Epoch 4/5] [Iter 2300] C_loss: 0.0052 G_loss: 0.1441\n",
      "[Epoch 4/5] [Iter 2400] C_loss: -0.0055 G_loss: 0.0364\n",
      "[Epoch 4/5] [Iter 2500] C_loss: -0.0167 G_loss: -0.0457\n",
      "[Epoch 4/5] [Iter 2600] C_loss: -0.0287 G_loss: 0.0483\n",
      "[Epoch 4/5] [Iter 2700] C_loss: -0.0254 G_loss: -0.0520\n",
      "[Epoch 4/5] [Iter 2800] C_loss: -0.0185 G_loss: -0.0025\n",
      "[Epoch 4/5] [Iter 2900] C_loss: -0.0414 G_loss: 0.0231\n",
      "[Epoch 4/5] [Iter 3000] C_loss: -0.0239 G_loss: -0.1204\n",
      "[Epoch 4/5] [Iter 3100] C_loss: -0.0488 G_loss: -0.1279\n",
      "[Epoch 4/5] [Iter 3200] C_loss: -0.0256 G_loss: 0.1282\n",
      "[Epoch 4/5] [Iter 3300] C_loss: -0.0072 G_loss: -0.0106\n",
      "[Epoch 4/5] [Iter 3400] C_loss: 0.0002 G_loss: 0.0399\n",
      "[Epoch 4/5] [Iter 3500] C_loss: -0.0198 G_loss: -0.0207\n",
      "[Epoch 4/5] [Iter 3600] C_loss: -0.0261 G_loss: -0.0907\n",
      "[Epoch 4/5] [Iter 3700] C_loss: -0.0240 G_loss: 0.0465\n",
      "[Epoch 5/5] [Iter 100] C_loss: 0.0189 G_loss: -0.0081\n",
      "[Epoch 5/5] [Iter 200] C_loss: -0.0345 G_loss: 0.0839\n",
      "[Epoch 5/5] [Iter 300] C_loss: -0.0211 G_loss: -0.0218\n",
      "[Epoch 5/5] [Iter 400] C_loss: -0.0081 G_loss: 0.1133\n",
      "[Epoch 5/5] [Iter 500] C_loss: 0.0007 G_loss: 0.0549\n",
      "[Epoch 5/5] [Iter 600] C_loss: -0.0091 G_loss: -0.0067\n",
      "[Epoch 5/5] [Iter 700] C_loss: -0.0056 G_loss: -0.0762\n",
      "[Epoch 5/5] [Iter 800] C_loss: -0.0010 G_loss: -0.0370\n",
      "[Epoch 5/5] [Iter 900] C_loss: -0.0100 G_loss: 0.0067\n",
      "[Epoch 5/5] [Iter 1000] C_loss: -0.0361 G_loss: 0.0567\n",
      "[Epoch 5/5] [Iter 1100] C_loss: -0.0159 G_loss: -0.1148\n",
      "[Epoch 5/5] [Iter 1200] C_loss: -0.0170 G_loss: -0.0521\n",
      "[Epoch 5/5] [Iter 1300] C_loss: 0.0205 G_loss: 0.0703\n",
      "[Epoch 5/5] [Iter 1400] C_loss: -0.0229 G_loss: -0.2221\n",
      "[Epoch 5/5] [Iter 1500] C_loss: -0.0177 G_loss: -0.0775\n",
      "[Epoch 5/5] [Iter 1600] C_loss: -0.0155 G_loss: 0.0677\n",
      "[Epoch 5/5] [Iter 1700] C_loss: -0.0314 G_loss: -0.1622\n",
      "[Epoch 5/5] [Iter 1800] C_loss: -0.0020 G_loss: -0.0886\n",
      "[Epoch 5/5] [Iter 1900] C_loss: 0.0086 G_loss: -0.1517\n",
      "[Epoch 5/5] [Iter 2000] C_loss: -0.0212 G_loss: 0.0423\n",
      "[Epoch 5/5] [Iter 2100] C_loss: -0.0198 G_loss: -0.1494\n",
      "[Epoch 5/5] [Iter 2200] C_loss: 0.0061 G_loss: -0.1333\n",
      "[Epoch 5/5] [Iter 2300] C_loss: -0.0026 G_loss: 0.0754\n",
      "[Epoch 5/5] [Iter 2400] C_loss: -0.0551 G_loss: 0.1431\n",
      "[Epoch 5/5] [Iter 2500] C_loss: -0.0184 G_loss: 0.0271\n",
      "[Epoch 5/5] [Iter 2600] C_loss: -0.0092 G_loss: -0.1484\n",
      "[Epoch 5/5] [Iter 2700] C_loss: -0.0349 G_loss: 0.0569\n",
      "[Epoch 5/5] [Iter 2800] C_loss: -0.0109 G_loss: 0.1471\n",
      "[Epoch 5/5] [Iter 2900] C_loss: -0.0140 G_loss: 0.0207\n",
      "[Epoch 5/5] [Iter 3000] C_loss: 0.0062 G_loss: -0.0571\n",
      "[Epoch 5/5] [Iter 3100] C_loss: -0.0064 G_loss: -0.1976\n",
      "[Epoch 5/5] [Iter 3200] C_loss: -0.0091 G_loss: -0.0131\n",
      "[Epoch 5/5] [Iter 3300] C_loss: -0.0244 G_loss: -0.0847\n",
      "[Epoch 5/5] [Iter 3400] C_loss: 0.0008 G_loss: -0.0996\n",
      "[Epoch 5/5] [Iter 3500] C_loss: -0.0283 G_loss: -0.1003\n",
      "[Epoch 5/5] [Iter 3600] C_loss: -0.0163 G_loss: -0.0286\n",
      "[Epoch 5/5] [Iter 3700] C_loss: -0.0054 G_loss: -0.1055\n"
     ]
    }
   ],
   "source": [
    "G_losses_wclip, C_losses_wclip = train_wgan_weight_clipping()\n"
   ]
  },
  {
   "cell_type": "code",
   "execution_count": 11,
   "metadata": {},
   "outputs": [],
   "source": [
    "def show_generated_images(generator):\n",
    "    generator.eval()\n",
    "    noise = torch.randn(16, config.noise_size).cuda()\n",
    "    with torch.no_grad():\n",
    "        samples = generator(noise).cpu().view(-1, 1, 28, 28)\n",
    "\n",
    "    fig, axes = plt.subplots(4, 4, figsize=(6, 6))\n",
    "    for idx, ax in enumerate(axes.flatten()):\n",
    "        ax.imshow(samples[idx].squeeze(), cmap='gray')\n",
    "        ax.axis('off')\n",
    "    plt.tight_layout()\n",
    "    plt.show()\n",
    "    generator.train()"
   ]
  },
  {
   "cell_type": "code",
   "execution_count": 12,
   "metadata": {},
   "outputs": [
    {
     "data": {
      "image/png": "[encoded data removed]",
      "text/plain": [
       "<Figure size 600x600 with 16 Axes>"
      ]
     },
     "metadata": {},
     "output_type": "display_data"
    }
   ],
   "source": [
    "show_generated_images(generator)"
   ]
  },
  {
   "cell_type": "markdown",
   "metadata": {},
   "source": [
    "###  WGAN с Gradient Penalty (WGAN-GP)"
   ]
  },
  {
   "cell_type": "code",
   "execution_count": 13,
   "metadata": {},
   "outputs": [],
   "source": [
    "import torch\n",
    "import torch.nn as nn\n",
    "import torch.optim as optim"
   ]
  },
  {
   "cell_type": "code",
   "execution_count": 14,
   "metadata": {},
   "outputs": [],
   "source": [
    "class CriticWGANGP(nn.Module):\n",
    "    def __init__(self, in_dim=28*28):\n",
    "        super(CriticWGANGP, self).__init__()\n",
    "        self.model = nn.Sequential(\n",
    "            nn.Linear(in_dim, 200),\n",
    "            nn.ReLU(inplace=True),\n",
    "            nn.Linear(200, 50),\n",
    "            nn.ReLU(inplace=True),\n",
    "            nn.Linear(50, 1)  # без сигмоиды\n",
    "        )\n",
    "\n",
    "    def forward(self, x):\n",
    "        return self.model(x)"
   ]
  },
  {
   "cell_type": "code",
   "execution_count": 15,
   "metadata": {},
   "outputs": [],
   "source": [
    "def gradient_penalty(critic, real_samples, fake_samples, device=\"cuda\"):\n",
    "    alpha = torch.rand(real_samples.size(0), 1).to(device)\n",
    "    alpha = alpha.expand_as(real_samples).contiguous()  # [batch_size, 784]\n",
    "    \n",
    "    interpolates = alpha * real_samples + ((1 - alpha) * fake_samples)\n",
    "    interpolates = interpolates.detach().requires_grad_(True)\n",
    "    \n",
    "    critic_interpolates = critic(interpolates)\n",
    "    # По умолчанию (batch, 1) → нужно получить градиенты wrt interpolates\n",
    "    grad_outputs = torch.ones_like(critic_interpolates).to(device)\n",
    "\n",
    "    # Вычисляем градиент\n",
    "    gradients = torch.autograd.grad(\n",
    "        outputs=critic_interpolates,\n",
    "        inputs=interpolates,\n",
    "        grad_outputs=grad_outputs,\n",
    "        create_graph=True,\n",
    "        retain_graph=True,\n",
    "        only_inputs=True\n",
    "    )[0]\n",
    "\n",
    "    # penalty = E[ (||grad||2 - 1)^2 ]\n",
    "    gradients = gradients.view(gradients.size(0), -1)\n",
    "    penalty = ((gradients.norm(2, dim=1) - 1) ** 2).mean()\n",
    "    return penalty\n"
   ]
  },
  {
   "cell_type": "code",
   "execution_count": 16,
   "metadata": {},
   "outputs": [],
   "source": [
    "lambda_gp = 10.0\n",
    "\n",
    "critic = CriticWGANGP().cuda()\n",
    "optim_C = optim.Adam(critic.parameters(), lr=config.lr, betas=(0.5, 0.9))\n",
    "optim_G = optim.Adam(generator.parameters(), lr=config.lr, betas=(0.5, 0.9))"
   ]
  },
  {
   "cell_type": "code",
   "execution_count": 17,
   "metadata": {},
   "outputs": [],
   "source": [
    "for epoch in range(config.num_epochs):\n",
    "    for i, (real_imgs, _) in enumerate(dataloader):\n",
    "        real_imgs = real_imgs.view(real_imgs.size(0), -1).cuda()\n",
    "\n",
    "        # ----- ОБУЧАЕМ КРИТИК -----\n",
    "        for _ in range(config.critic_iters):\n",
    "            noise = torch.randn(real_imgs.size(0), config.noise_size).cuda()\n",
    "            fake_imgs = generator(noise).detach()\n",
    "\n",
    "            # critic_loss = E[C(fake)] - E[C(real)] + lambda_gp * gradient_penalty\n",
    "            critic_loss = (torch.mean(critic(fake_imgs)) - torch.mean(critic(real_imgs)))\n",
    "\n",
    "            # добавляем gradient penalty\n",
    "            gp = gradient_penalty(critic, real_imgs, fake_imgs)\n",
    "            critic_loss += lambda_gp * gp\n",
    "\n",
    "            optim_C.zero_grad()\n",
    "            critic_loss.backward()\n",
    "            optim_C.step()\n",
    "\n",
    "        # ----- ОБУЧАЕМ ГЕНЕРАТОР -----\n",
    "        noise = torch.randn(real_imgs.size(0), config.noise_size).cuda()\n",
    "        fake_imgs = generator(noise)\n",
    "        gen_loss = -torch.mean(critic(fake_imgs))\n",
    "\n",
    "        optim_G.zero_grad()\n",
    "        gen_loss.backward()\n",
    "        optim_G.step()"
   ]
  },
  {
   "cell_type": "markdown",
   "metadata": {},
   "source": [
    "### Условный WGAN (Conditional WGAN)"
   ]
  },
  {
   "cell_type": "code",
   "execution_count": 18,
   "metadata": {},
   "outputs": [],
   "source": [
    "num_classes = 10"
   ]
  },
  {
   "cell_type": "code",
   "execution_count": 19,
   "metadata": {},
   "outputs": [],
   "source": [
    "class ConditionalGenerator(nn.Module):\n",
    "    def __init__(self, noise_size=50, num_classes=10, out_dim=784):\n",
    "        super(ConditionalGenerator, self).__init__()\n",
    "        self.model = nn.Sequential(\n",
    "            nn.Linear(noise_size + num_classes, 200),\n",
    "            nn.ReLU(inplace=True),\n",
    "            nn.Linear(200, out_dim),\n",
    "            nn.Tanh()\n",
    "        )\n",
    "\n",
    "    def forward(self, noise, labels_onehot):\n",
    "        x = torch.cat([noise, labels_onehot], dim=1)\n",
    "        out = self.model(x)\n",
    "        return out"
   ]
  },
  {
   "cell_type": "code",
   "execution_count": 20,
   "metadata": {},
   "outputs": [],
   "source": [
    "class ConditionalCritic(nn.Module):\n",
    "    def __init__(self, in_dim=784, num_classes=10):\n",
    "        super(ConditionalCritic, self).__init__()\n",
    "        self.model = nn.Sequential(\n",
    "            nn.Linear(in_dim + num_classes, 200),\n",
    "            nn.ReLU(inplace=True),\n",
    "            nn.Linear(200, 50),\n",
    "            nn.ReLU(inplace=True),\n",
    "            nn.Linear(50, 1)  # без сигмоиды\n",
    "        )\n",
    "\n",
    "    def forward(self, imgs, labels_onehot):\n",
    "        x = torch.cat([imgs, labels_onehot], dim=1)\n",
    "        return self.model(x)"
   ]
  },
  {
   "cell_type": "code",
   "execution_count": 21,
   "metadata": {},
   "outputs": [],
   "source": [
    "generator_cond = ConditionalGenerator().cuda()\n",
    "critic_cond = ConditionalCritic().cuda()"
   ]
  },
  {
   "cell_type": "markdown",
   "metadata": {},
   "source": [
    "### выводы\n",
    "\n",
    "WGAN с weight clipping (заменили функцию потерь на Wasserstein, после каждого шага оптимизации дискриминатора делали weight clipping, обучали дискриминатор большее число итераций на каждую итерацию генератора)\n",
    "\n",
    "WGAN-GP (убрали clipping, добавили расчет gradient penalty на линейных интерполяциях между реальными и фейковыми сэмплами, штраф прибавляли к функции потерь дискриминатора)\n",
    "\n",
    "Conditional WGAN (добавили вектор one-hot метки к входам генератора и критика)\n",
    "\n",
    "для улучшения можно"
   ]
  },
  {
   "cell_type": "code",
   "execution_count": 22,
   "metadata": {},
   "outputs": [
    {
     "name": "stdout",
     "output_type": "stream",
     "text": [
      "The history saving thread hit an unexpected error (OperationalError('attempt to write a readonly database')).History will not be written to the database.\n"
     ]
    },
    {
     "data": {
      "image/png": "[encoded data removed]",
      "text/plain": [
       "<Figure size 1200x400 with 1 Axes>"
      ]
     },
     "metadata": {},
     "output_type": "display_data"
    },
    {
     "data": {
      "image/png": "[encoded data removed]",
      "text/plain": [
       "<Figure size 600x600 with 16 Axes>"
      ]
     },
     "metadata": {},
     "output_type": "display_data"
    }
   ],
   "source": [
    "plt.figure(figsize=(12, 4))\n",
    "plt.subplot(1, 2, 1)\n",
    "plt.plot(G_losses_wclip, label='G_loss (WGAN-clip)')\n",
    "plt.plot(C_losses_wclip, label='C_loss (WGAN-clip)')\n",
    "plt.legend()\n",
    "\n",
    "# Пример сэмплов\n",
    "show_generated_images(generator)\n"
   ]
  },
  {
   "cell_type": "markdown",
   "metadata": {},
   "source": []
  }
 ],
 "metadata": {
  "anaconda-cloud": {},
  "colab": {
   "provenance": []
  },
  "kernelspec": {
   "display_name": "test-venv",
   "language": "python",
   "name": "test-venv"
  },
  "language_info": {
   "codemirror_mode": {
    "name": "ipython",
    "version": 3
   },
   "file_extension": ".py",
   "mimetype": "text/x-python",
   "name": "python",
   "nbconvert_exporter": "python",
   "pygments_lexer": "ipython3",
   "version": "3.12.3"
  }
 },
 "nbformat": 4,
 "nbformat_minor": 4
}
