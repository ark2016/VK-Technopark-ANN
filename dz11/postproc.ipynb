{
 "cells": [
  {
   "cell_type": "code",
   "execution_count": 1,
   "metadata": {},
   "outputs": [],
   "source": [
    "import pandas as pd"
   ]
  },
  {
   "cell_type": "code",
   "execution_count": 37,
   "metadata": {},
   "outputs": [],
   "source": [
    "df = pd.read_csv(\"CrisperWhisper.csv\")"
   ]
  },
  {
   "cell_type": "code",
   "execution_count": 3,
   "metadata": {},
   "outputs": [
    {
     "data": {
      "text/html": [
       "<div>\n",
       "<style scoped>\n",
       "    .dataframe tbody tr th:only-of-type {\n",
       "        vertical-align: middle;\n",
       "    }\n",
       "\n",
       "    .dataframe tbody tr th {\n",
       "        vertical-align: top;\n",
       "    }\n",
       "\n",
       "    .dataframe thead th {\n",
       "        text-align: right;\n",
       "    }\n",
       "</style>\n",
       "<table border=\"1\" class=\"dataframe\">\n",
       "  <thead>\n",
       "    <tr style=\"text-align: right;\">\n",
       "      <th></th>\n",
       "      <th>id</th>\n",
       "      <th>filename</th>\n",
       "      <th>hypo</th>\n",
       "    </tr>\n",
       "  </thead>\n",
       "  <tbody>\n",
       "    <tr>\n",
       "      <th>0</th>\n",
       "      <td>0</td>\n",
       "      <td>audio_0.wav</td>\n",
       "      <td></td>\n",
       "    </tr>\n",
       "    <tr>\n",
       "      <th>1</th>\n",
       "      <td>1</td>\n",
       "      <td>audio_1.wav</td>\n",
       "      <td></td>\n",
       "    </tr>\n",
       "    <tr>\n",
       "      <th>2</th>\n",
       "      <td>2</td>\n",
       "      <td>audio_2.wav</td>\n",
       "      <td>потише жрё брак нагремлит</td>\n",
       "    </tr>\n",
       "    <tr>\n",
       "      <th>3</th>\n",
       "      <td>3</td>\n",
       "      <td>audio_3.wav</td>\n",
       "      <td></td>\n",
       "    </tr>\n",
       "    <tr>\n",
       "      <th>4</th>\n",
       "      <td>4</td>\n",
       "      <td>audio_4.wav</td>\n",
       "      <td>быстро за мной</td>\n",
       "    </tr>\n",
       "  </tbody>\n",
       "</table>\n",
       "</div>"
      ],
      "text/plain": [
       "   id     filename                       hypo\n",
       "0   0  audio_0.wav                           \n",
       "1   1  audio_1.wav                           \n",
       "2   2  audio_2.wav  потише жрё брак нагремлит\n",
       "3   3  audio_3.wav                           \n",
       "4   4  audio_4.wav             быстро за мной"
      ]
     },
     "execution_count": 3,
     "metadata": {},
     "output_type": "execute_result"
    }
   ],
   "source": [
    "df.head()"
   ]
  },
  {
   "cell_type": "code",
   "execution_count": 13,
   "metadata": {},
   "outputs": [
    {
     "data": {
      "text/plain": [
       "<bound method DataFrame.info of       id       filename                                               hypo\n",
       "0      0    audio_0.wav                                                   \n",
       "1      1    audio_1.wav                                                   \n",
       "2      2    audio_2.wav                          потише жрё брак нагремлит\n",
       "3      3    audio_3.wav                                                   \n",
       "4      4    audio_4.wav                                     быстро за мной\n",
       "..   ...            ...                                                ...\n",
       "637  637  audio_637.wav  и там ж получается нет никакой хитрости все оч...\n",
       "638  638  audio_638.wav  меня зовут валерия кокшарова мне тридцать девя...\n",
       "639  639  audio_639.wav  оно идет много со временем чем обычный бумажны...\n",
       "640  640  audio_640.wav  «дед» «сады» а «садики» для пожилых людей «с о...\n",
       "641  641  audio_641.wav  я не готова идти на какието не хорошие хитрост...\n",
       "\n",
       "[642 rows x 3 columns]>"
      ]
     },
     "execution_count": 13,
     "metadata": {},
     "output_type": "execute_result"
    }
   ],
   "source": [
    "df.info"
   ]
  },
  {
   "cell_type": "code",
   "execution_count": 4,
   "metadata": {},
   "outputs": [
    {
     "data": {
      "text/html": [
       "<div>\n",
       "<style scoped>\n",
       "    .dataframe tbody tr th:only-of-type {\n",
       "        vertical-align: middle;\n",
       "    }\n",
       "\n",
       "    .dataframe tbody tr th {\n",
       "        vertical-align: top;\n",
       "    }\n",
       "\n",
       "    .dataframe thead th {\n",
       "        text-align: right;\n",
       "    }\n",
       "</style>\n",
       "<table border=\"1\" class=\"dataframe\">\n",
       "  <thead>\n",
       "    <tr style=\"text-align: right;\">\n",
       "      <th></th>\n",
       "      <th>id</th>\n",
       "      <th>filename</th>\n",
       "      <th>hypo</th>\n",
       "    </tr>\n",
       "  </thead>\n",
       "  <tbody>\n",
       "    <tr>\n",
       "      <th>0</th>\n",
       "      <td>0</td>\n",
       "      <td>audio_0.wav</td>\n",
       "      <td></td>\n",
       "    </tr>\n",
       "    <tr>\n",
       "      <th>1</th>\n",
       "      <td>1</td>\n",
       "      <td>audio_1.wav</td>\n",
       "      <td></td>\n",
       "    </tr>\n",
       "    <tr>\n",
       "      <th>2</th>\n",
       "      <td>2</td>\n",
       "      <td>audio_2.wav</td>\n",
       "      <td>потише жрё брак нагремлит</td>\n",
       "    </tr>\n",
       "    <tr>\n",
       "      <th>3</th>\n",
       "      <td>3</td>\n",
       "      <td>audio_3.wav</td>\n",
       "      <td></td>\n",
       "    </tr>\n",
       "    <tr>\n",
       "      <th>4</th>\n",
       "      <td>4</td>\n",
       "      <td>audio_4.wav</td>\n",
       "      <td>быстро за мной</td>\n",
       "    </tr>\n",
       "    <tr>\n",
       "      <th>...</th>\n",
       "      <td>...</td>\n",
       "      <td>...</td>\n",
       "      <td>...</td>\n",
       "    </tr>\n",
       "    <tr>\n",
       "      <th>95</th>\n",
       "      <td>95</td>\n",
       "      <td>audio_95.wav</td>\n",
       "      <td></td>\n",
       "    </tr>\n",
       "    <tr>\n",
       "      <th>96</th>\n",
       "      <td>96</td>\n",
       "      <td>audio_96.wav</td>\n",
       "      <td>олексина елизавета 22 года биробиджан</td>\n",
       "    </tr>\n",
       "    <tr>\n",
       "      <th>97</th>\n",
       "      <td>97</td>\n",
       "      <td>audio_97.wav</td>\n",
       "      <td>алиева мариана двадцать два года республика да...</td>\n",
       "    </tr>\n",
       "    <tr>\n",
       "      <th>98</th>\n",
       "      <td>98</td>\n",
       "      <td>audio_98.wav</td>\n",
       "      <td></td>\n",
       "    </tr>\n",
       "    <tr>\n",
       "      <th>99</th>\n",
       "      <td>99</td>\n",
       "      <td>audio_99.wav</td>\n",
       "      <td></td>\n",
       "    </tr>\n",
       "  </tbody>\n",
       "</table>\n",
       "<p>100 rows × 3 columns</p>\n",
       "</div>"
      ],
      "text/plain": [
       "    id      filename                                               hypo\n",
       "0    0   audio_0.wav                                                   \n",
       "1    1   audio_1.wav                                                   \n",
       "2    2   audio_2.wav                          потише жрё брак нагремлит\n",
       "3    3   audio_3.wav                                                   \n",
       "4    4   audio_4.wav                                     быстро за мной\n",
       "..  ..           ...                                                ...\n",
       "95  95  audio_95.wav                                                   \n",
       "96  96  audio_96.wav              олексина елизавета 22 года биробиджан\n",
       "97  97  audio_97.wav  алиева мариана двадцать два года республика да...\n",
       "98  98  audio_98.wav                                                   \n",
       "99  99  audio_99.wav                                                   \n",
       "\n",
       "[100 rows x 3 columns]"
      ]
     },
     "execution_count": 4,
     "metadata": {},
     "output_type": "execute_result"
    }
   ],
   "source": [
    "df.head(100)"
   ]
  },
  {
   "cell_type": "code",
   "execution_count": null,
   "metadata": {},
   "outputs": [],
   "source": []
  },
  {
   "cell_type": "code",
   "execution_count": 34,
   "metadata": {},
   "outputs": [],
   "source": [
    "import pandas as pd\n",
    "from num2words import num2words\n",
    "import re\n",
    "import string"
   ]
  },
  {
   "cell_type": "code",
   "execution_count": 14,
   "metadata": {},
   "outputs": [],
   "source": [
    "# Функция для преобразования чисел в слова\n",
    "def convert_numbers_to_words(text):\n",
    "    if not isinstance(text, str):\n",
    "        return text\n",
    "\n",
    "    # Регулярное выражение для поиска чисел\n",
    "    pattern = re.compile(r'\\d+(\\.\\d+)?')\n",
    "\n",
    "    def replace_match(match):\n",
    "        number = float(match.group(0))\n",
    "        return num2words(number, lang='ru')\n",
    "\n",
    "    return pattern.sub(replace_match, text)"
   ]
  },
  {
   "cell_type": "code",
   "execution_count": 25,
   "metadata": {},
   "outputs": [],
   "source": [
    "df['hypo'] = df['hypo'].apply(convert_numbers_to_words)"
   ]
  },
  {
   "cell_type": "code",
   "execution_count": 16,
   "metadata": {},
   "outputs": [
    {
     "name": "stdout",
     "output_type": "stream",
     "text": [
      "      id       filename                                               hypo\n",
      "0      0    audio_0.wav                                                   \n",
      "1      1    audio_1.wav                                                   \n",
      "2      2    audio_2.wav                          потише жрё брак нагремлит\n",
      "3      3    audio_3.wav                                                   \n",
      "4      4    audio_4.wav                                     быстро за мной\n",
      "..   ...            ...                                                ...\n",
      "637  637  audio_637.wav  и там ж получается нет никакой хитрости все оч...\n",
      "638  638  audio_638.wav  меня зовут валерия кокшарова мне тридцать девя...\n",
      "639  639  audio_639.wav  оно идет много со временем чем обычный бумажны...\n",
      "640  640  audio_640.wav  «дед» «сады» а «садики» для пожилых людей «с о...\n",
      "641  641  audio_641.wav  я не готова идти на какието не хорошие хитрост...\n",
      "\n",
      "[642 rows x 3 columns]\n"
     ]
    }
   ],
   "source": [
    "print(df[['id', 'filename', 'hypo']])"
   ]
  },
  {
   "cell_type": "code",
   "execution_count": 26,
   "metadata": {},
   "outputs": [],
   "source": [
    "df.to_csv(\"CrisperWhisperNew.csv\", index=False)"
   ]
  },
  {
   "cell_type": "markdown",
   "metadata": {},
   "source": [
    "цифры почему-то ухудшили"
   ]
  },
  {
   "cell_type": "code",
   "execution_count": 28,
   "metadata": {},
   "outputs": [],
   "source": [
    "# Функция для удаления повторяющихся букв\n",
    "def remove_repeated_chars(text):\n",
    "    if not isinstance(text, str):\n",
    "        return text\n",
    "    # Регулярное выражение для поиска повторяющихся букв\n",
    "    pattern = re.compile(r'(\\w)\\1{2,}')\n",
    "    return pattern.sub(r'\\1', text)"
   ]
  },
  {
   "cell_type": "code",
   "execution_count": 31,
   "metadata": {},
   "outputs": [],
   "source": [
    "df['hypo'] = df['hypo'].apply(remove_repeated_chars)"
   ]
  },
  {
   "cell_type": "code",
   "execution_count": 21,
   "metadata": {},
   "outputs": [],
   "source": [
    "df.to_csv(\"CrisperWhisperNew.csv\", index=False)"
   ]
  },
  {
   "cell_type": "markdown",
   "metadata": {},
   "source": [
    "улучшает"
   ]
  },
  {
   "cell_type": "code",
   "execution_count": 38,
   "metadata": {},
   "outputs": [],
   "source": [
    "def remove_repeated_words(text):\n",
    "    if not isinstance(text, str):\n",
    "        return text\n",
    "\n",
    "    # Регулярное выражение для поиска повторяющихся слов\n",
    "    pattern = re.compile(r'(\\b\\w+\\b)( \\1)+')\n",
    "\n",
    "    return pattern.sub(r'\\1', text)\n"
   ]
  },
  {
   "cell_type": "code",
   "execution_count": 39,
   "metadata": {},
   "outputs": [],
   "source": [
    "df['hypo'] = df['hypo'].apply(remove_repeated_words)\n"
   ]
  },
  {
   "cell_type": "code",
   "execution_count": 24,
   "metadata": {},
   "outputs": [],
   "source": [
    "df.to_csv(\"CrisperWhisperNew.csv\", index=False)"
   ]
  },
  {
   "cell_type": "markdown",
   "metadata": {},
   "source": [
    "ухудшует"
   ]
  },
  {
   "cell_type": "code",
   "execution_count": 32,
   "metadata": {},
   "outputs": [],
   "source": [
    "def remove_repeated_words_and_punctuation(text):\n",
    "    if not isinstance(text, str):\n",
    "        return text\n",
    "\n",
    "    # Удаление знаков препинания\n",
    "    text = text.translate(str.maketrans('', '', string.punctuation))\n",
    "\n",
    "    # Регулярное выражение для поиска повторяющихся слов\n",
    "    pattern = re.compile(r'(\\b\\w+\\b)( \\1)+')\n",
    "\n",
    "    return pattern.sub(r'\\1', text)"
   ]
  },
  {
   "cell_type": "code",
   "execution_count": 35,
   "metadata": {},
   "outputs": [],
   "source": [
    "df['hypo'] = df['hypo'].apply(remove_repeated_words_and_punctuation)"
   ]
  },
  {
   "cell_type": "code",
   "execution_count": 36,
   "metadata": {},
   "outputs": [],
   "source": [
    "df.to_csv(\"CrisperWhisperNew.csv\", index=False)"
   ]
  },
  {
   "cell_type": "markdown",
   "metadata": {},
   "source": [
    " "
   ]
  },
  {
   "cell_type": "code",
   "execution_count": 40,
   "metadata": {},
   "outputs": [],
   "source": [
    "import pymorphy2"
   ]
  },
  {
   "cell_type": "code",
   "execution_count": 41,
   "metadata": {},
   "outputs": [],
   "source": [
    "morph = pymorphy2.MorphAnalyzer()"
   ]
  },
  {
   "cell_type": "code",
   "execution_count": 46,
   "metadata": {},
   "outputs": [],
   "source": [
    "def normalize_and_remove_punctuation(text):\n",
    "    if not isinstance(text, str):\n",
    "        return text\n",
    "\n",
    "    # Удаление знаков препинания\n",
    "    text = text.translate(str.maketrans('', '', string.punctuation))\n",
    "\n",
    "    # Нормализация слов\n",
    "    words = text.split()\n",
    "    normalized_words = [morph.parse(word)[0].normal_form for word in words]\n",
    "    normalized_text = ' '.join(normalized_words)\n",
    "\n",
    "    return normalized_text"
   ]
  },
  {
   "cell_type": "code",
   "execution_count": 48,
   "metadata": {},
   "outputs": [],
   "source": [
    "df['hypo'] = df['hypo'].apply(normalize_and_remove_punctuation)\n"
   ]
  },
  {
   "cell_type": "code",
   "execution_count": 50,
   "metadata": {},
   "outputs": [],
   "source": [
    "df['hypo'] = df['hypo'].replace('', ' ')"
   ]
  },
  {
   "cell_type": "code",
   "execution_count": 51,
   "metadata": {},
   "outputs": [],
   "source": [
    "df.to_csv(\"CrisperWhisperNew.csv\", index=False)"
   ]
  },
  {
   "cell_type": "code",
   "execution_count": null,
   "metadata": {},
   "outputs": [],
   "source": []
  }
 ],
 "metadata": {
  "kernelspec": {
   "display_name": "asr",
   "language": "python",
   "name": "asr"
  },
  "language_info": {
   "codemirror_mode": {
    "name": "ipython",
    "version": 3
   },
   "file_extension": ".py",
   "mimetype": "text/x-python",
   "name": "python",
   "nbconvert_exporter": "python",
   "pygments_lexer": "ipython3",
   "version": "3.7.3"
  }
 },
 "nbformat": 4,
 "nbformat_minor": 2
}
